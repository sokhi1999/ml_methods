{
 "cells": [
  {
   "cell_type": "code",
   "execution_count": 20,
   "id": "1cb6eb0a",
   "metadata": {},
   "outputs": [
    {
     "name": "stdout",
     "output_type": "stream",
     "text": [
      "            Position  Level   Salary\n",
      "0   Business Analyst      1    45000\n",
      "1  Junior Consultant      2    50000\n",
      "2  Senior Consultant      3    60000\n",
      "3            Manager      4    80000\n",
      "4    Country Manager      5   110000\n",
      "5     Region Manager      6   150000\n",
      "6            Partner      7   200000\n",
      "7     Senior Partner      8   300000\n",
      "8            C-level      9   500000\n",
      "9                CEO     10  1000000\n",
      "[[ 1]\n",
      " [ 2]\n",
      " [ 3]\n",
      " [ 4]\n",
      " [ 5]\n",
      " [ 6]\n",
      " [ 7]\n",
      " [ 8]\n",
      " [ 9]\n",
      " [10]]\n",
      "[[  45000]\n",
      " [  50000]\n",
      " [  60000]\n",
      " [  80000]\n",
      " [ 110000]\n",
      " [ 150000]\n",
      " [ 200000]\n",
      " [ 300000]\n",
      " [ 500000]\n",
      " [1000000]]\n",
      "[[-1.5666989 ]\n",
      " [-1.21854359]\n",
      " [-0.87038828]\n",
      " [-0.52223297]\n",
      " [-0.17407766]\n",
      " [ 0.17407766]\n",
      " [ 0.52223297]\n",
      " [ 0.87038828]\n",
      " [ 1.21854359]\n",
      " [ 1.5666989 ]]\n",
      "[[-0.72004253]\n",
      " [-0.70243757]\n",
      " [-0.66722767]\n",
      " [-0.59680786]\n",
      " [-0.49117815]\n",
      " [-0.35033854]\n",
      " [-0.17428902]\n",
      " [ 0.17781001]\n",
      " [ 0.88200808]\n",
      " [ 2.64250325]]\n",
      "[[170370.0204065]]\n"
     ]
    },
    {
     "name": "stderr",
     "output_type": "stream",
     "text": [
      "C:\\Users\\17786\\anaconda3\\lib\\site-packages\\sklearn\\utils\\validation.py:993: DataConversionWarning: A column-vector y was passed when a 1d array was expected. Please change the shape of y to (n_samples, ), for example using ravel().\n",
      "  y = column_or_1d(y, warn=True)\n"
     ]
    },
    {
     "data": {
      "image/png": "[encoded data removed]",
      "text/plain": [
       "<Figure size 432x288 with 1 Axes>"
      ]
     },
     "metadata": {
      "needs_background": "light"
     },
     "output_type": "display_data"
    }
   ],
   "source": [
    "import numpy as np\n",
    "import pandas as pd\n",
    "import matplotlib.pyplot as plt \n",
    "\n",
    "DT = pd.read_csv(\"Position_Salaries.csv\")\n",
    "print(DT)\n",
    "\n",
    "X = DT.iloc[:, [1]].values\n",
    "Y = DT.iloc[:, [2]].values\n",
    "\n",
    "print(X)\n",
    "print(Y)\n",
    "\n",
    "from sklearn.preprocessing import StandardScaler \n",
    "ss_one = StandardScaler()\n",
    "ss_two = StandardScaler()\n",
    "X = ss_one.fit_transform(X)\n",
    "Y = ss_two.fit_transform(Y)\n",
    "\n",
    "print(X)\n",
    "print(Y)\n",
    "\n",
    "from sklearn.svm import SVR\n",
    "reg = SVR(kernel = 'rbf')\n",
    "reg.fit(X,Y)\n",
    "\n",
    "print(ss_two.inverse_transform(reg.predict(ss_one.transform([[6.5]])).reshape(-1,1 )))\n",
    "\n",
    "plt.scatter(ss_one.inverse_transform(X),ss_two.inverse_transform(Y), color = 'red')\n",
    "plt.plot(ss_one.inverse_transform(X), ss_two.inverse_transform(\n",
    "    reg.predict(X).reshape(-1,1)), color = 'blue')\n",
    "plt.show()"
   ]
  },
  {
   "cell_type": "code",
   "execution_count": null,
   "id": "916a691b",
   "metadata": {},
   "outputs": [],
   "source": []
  }
 ],
 "metadata": {
  "kernelspec": {
   "display_name": "Python 3 (ipykernel)",
   "language": "python",
   "name": "python3"
  },
  "language_info": {
   "codemirror_mode": {
    "name": "ipython",
    "version": 3
   },
   "file_extension": ".py",
   "mimetype": "text/x-python",
   "name": "python",
   "nbconvert_exporter": "python",
   "pygments_lexer": "ipython3",
   "version": "3.9.12"
  }
 },
 "nbformat": 4,
 "nbformat_minor": 5
}
